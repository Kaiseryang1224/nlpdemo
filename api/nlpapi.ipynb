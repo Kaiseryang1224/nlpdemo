{
 "cells": [
  {
   "cell_type": "code",
   "execution_count": 38,
   "metadata": {},
   "outputs": [],
   "source": [
    "import spacy\n",
    "from spacy.tokens import Span\n",
    "from spacy.matcher import PhraseMatcher\n",
    "\n",
    "nlp = spacy.load(\"en_core_web_sm\")\n",
    "\n",
    "animals = [\"Golden Retriever\", \"cat\", \"turtle\", \"Rattus norvegicus\"]\n",
    "matcher = PhraseMatcher(nlp.vocab)"
   ]
  },
  {
   "cell_type": "code",
   "execution_count": null,
   "metadata": {},
   "outputs": [],
   "source": [
    "def animal_component(doc):\n",
    "    animals = [\"Golden Retriever\", \"cat\", \"turtle\", \"Rattus norvegicus\"]\n",
    "    matcher = PhraseMatcher(nlp.vocab)\n",
    "    \n",
    "    matches = matcher(doc)\n",
    "    span = [Span(doc, start, end, label=\"ANIMAL\") for match_id, start, end in matches]\n",
    "    doc.ents = span\n",
    "    return doc"
   ]
  },
  {
   "cell_type": "code",
   "execution_count": null,
   "metadata": {},
   "outputs": [],
   "source": [
    "global nlp\n",
    "nlp.add_pipe(animal_component, after=True)"
   ]
  },
  {
   "cell_type": "code",
   "execution_count": 43,
   "metadata": {},
   "outputs": [],
   "source": [
    "def get_entities(doc):\n",
    "    return [(ent.text, ent.label_) for ent in doc.ents if ent.label_ == \"ORG\"]\n",
    "\n",
    "def get_countries(doc):\n",
    "    return [(ent.text, ent.label_) for ent in doc.ents if ent.label_ == 'GPE']\n",
    "\n",
    "def get_persons(doc):\n",
    "    return [(ent.text, ent.label_) for ent in doc.ents if ent.label_ == 'PERSON']\n"
   ]
  },
  {
   "cell_type": "code",
   "execution_count": 44,
   "metadata": {},
   "outputs": [
    {
     "name": "stdout",
     "output_type": "stream",
     "text": [
      "Entities:    [('Apple', 'ORG')]\n",
      "Countries   : [('U.S.', 'GPE')]\n",
      "PERSON   : [('David Bowie', 'PERSON')]\n"
     ]
    }
   ],
   "source": [
    "TEXT = \"\"\"\n",
    "20 Newsgroups: 20,000 documents from over 20 different newsgroups. \n",
    "The content covers a variety of topics with some closely related for \n",
    "reference. There are three versions, one in its original form, \n",
    "one with dates removed, and one with duplicates removed. I like David Bowie.\n",
    "It’s official: Apple is the first U.S. public company to reach a $1 trillion market value\n",
    "\"\"\"\n",
    "\n",
    "doc = nlp(TEXT)\n",
    "\n",
    "print('Entities:   ', get_entities(doc))\n",
    "print('Countries   :',  get_countries(doc))\n",
    "print('PERSON   :',  get_persons(doc))"
   ]
  }
 ],
 "metadata": {
  "kernelspec": {
   "display_name": "Python 3",
   "language": "python",
   "name": "python3"
  },
  "language_info": {
   "codemirror_mode": {
    "name": "ipython",
    "version": 3
   },
   "file_extension": ".py",
   "mimetype": "text/x-python",
   "name": "python",
   "nbconvert_exporter": "python",
   "pygments_lexer": "ipython3",
   "version": "3.7.4"
  }
 },
 "nbformat": 4,
 "nbformat_minor": 2
}
