{
 "cells": [
  {
   "cell_type": "code",
   "execution_count": 2,
   "metadata": {},
   "outputs": [],
   "source": [
    "import spacy\n",
    "from spacy.tokens import Span\n",
    "\n",
    "nlp = spacy.load(\"en_core_web_sm\")\n",
    "\n",
    "animals = [\"Golden Retriever\", \"cat\", \"turtle\", \"Rattus norvegicus\"]\n",
    "matcher = PhraseMatcher(nlp.vocab)"
   ]
  },
  {
   "cell_type": "code",
   "execution_count": null,
   "metadata": {},
   "outputs": [],
   "source": [
    "def animal_component(doc):\n",
    "    animals = [\"Golden Retriever\", \"cat\", \"turtle\", \"Rattus norvegicus\"]\n",
    "    matcher = PhraseMatcher(nlp.vocab)\n",
    "    \n",
    "    matches = matcher(doc)\n",
    "    span = [Span(doc, start, end, label=\"ANIMAL\") for match_id, start, end in matches]\n",
    "    doc.ents = span\n",
    "    return doc"
   ]
  },
  {
   "cell_type": "code",
   "execution_count": null,
   "metadata": {},
   "outputs": [],
   "source": [
    "global nlp\n",
    "nlp.add_pipe(animal_component, after=True)"
   ]
  },
  {
   "cell_type": "code",
   "execution_count": 34,
   "metadata": {},
   "outputs": [],
   "source": [
    "def get_entities(doc):\n",
    "    return [(ent.text, ent.label_) for ent in doc.ents]\n",
    "\n",
    "def get_countries(doc):\n",
    "    return [(ent.text, ent.label_) for ent in doc.ents if ent.label_ == 'GPE']\n",
    "\n",
    "def get_persons(doc):\n",
    "    return [(ent.text, ent.label_) for ent in doc.ents if ent.label_ == 'PERSON']\n"
   ]
  },
  {
   "cell_type": "code",
   "execution_count": 36,
   "metadata": {},
   "outputs": [
    {
     "name": "stdout",
     "output_type": "stream",
     "text": [
      "{'text': '\\n20 Newsgroups: 20,000 documents from over 20 different newsgroups. \\nThe content covers a variety of topics with some closely related for \\nreference. There are three versions, one in its original form, \\none with dates removed, and one with duplicates removed. I like David Bowie.\\nIt’s official: Apple is the first U.S. public company to reach a $1 trillion market value\\n', 'ents': [{'start': 1, 'end': 3, 'label': 'CARDINAL'}, {'start': 16, 'end': 22, 'label': 'CARDINAL'}, {'start': 43, 'end': 45, 'label': 'CARDINAL'}, {'start': 160, 'end': 165, 'label': 'CARDINAL'}, {'start': 267, 'end': 278, 'label': 'PERSON'}, {'start': 295, 'end': 300, 'label': 'ORG'}, {'start': 308, 'end': 313, 'label': 'ORDINAL'}, {'start': 314, 'end': 318, 'label': 'GPE'}, {'start': 345, 'end': 356, 'label': 'MONEY'}], 'sents': [{'start': 0, 'end': 69}, {'start': 69, 'end': 149}, {'start': 150, 'end': 259}, {'start': 260, 'end': 280}, {'start': 280, 'end': 293}, {'start': 293, 'end': 370}], 'tokens': [{'id': 0, 'start': 0, 'end': 1, 'pos': 'SPACE', 'tag': '_SP', 'dep': '', 'head': 1}, {'id': 1, 'start': 1, 'end': 3, 'pos': 'NUM', 'tag': 'CD', 'dep': 'nummod', 'head': 2}, {'id': 2, 'start': 4, 'end': 14, 'pos': 'PROPN', 'tag': 'NNPS', 'dep': 'ROOT', 'head': 2}, {'id': 3, 'start': 14, 'end': 15, 'pos': 'PUNCT', 'tag': ':', 'dep': 'punct', 'head': 2}, {'id': 4, 'start': 16, 'end': 22, 'pos': 'NUM', 'tag': 'CD', 'dep': 'nummod', 'head': 5}, {'id': 5, 'start': 23, 'end': 32, 'pos': 'NOUN', 'tag': 'NNS', 'dep': 'appos', 'head': 2}, {'id': 6, 'start': 33, 'end': 37, 'pos': 'ADP', 'tag': 'IN', 'dep': 'prep', 'head': 5}, {'id': 7, 'start': 38, 'end': 42, 'pos': 'ADP', 'tag': 'IN', 'dep': 'quantmod', 'head': 8}, {'id': 8, 'start': 43, 'end': 45, 'pos': 'NUM', 'tag': 'CD', 'dep': 'nummod', 'head': 10}, {'id': 9, 'start': 46, 'end': 55, 'pos': 'ADJ', 'tag': 'JJ', 'dep': 'amod', 'head': 10}, {'id': 10, 'start': 56, 'end': 66, 'pos': 'NOUN', 'tag': 'NNS', 'dep': 'pobj', 'head': 6}, {'id': 11, 'start': 66, 'end': 67, 'pos': 'PUNCT', 'tag': '.', 'dep': 'punct', 'head': 2}, {'id': 12, 'start': 68, 'end': 69, 'pos': 'SPACE', 'tag': '_SP', 'dep': '', 'head': 11}, {'id': 13, 'start': 69, 'end': 72, 'pos': 'DET', 'tag': 'DT', 'dep': 'det', 'head': 14}, {'id': 14, 'start': 73, 'end': 80, 'pos': 'NOUN', 'tag': 'NN', 'dep': 'nsubj', 'head': 15}, {'id': 15, 'start': 81, 'end': 87, 'pos': 'VERB', 'tag': 'VBZ', 'dep': 'ROOT', 'head': 15}, {'id': 16, 'start': 88, 'end': 89, 'pos': 'DET', 'tag': 'DT', 'dep': 'det', 'head': 17}, {'id': 17, 'start': 90, 'end': 97, 'pos': 'NOUN', 'tag': 'NN', 'dep': 'dobj', 'head': 15}, {'id': 18, 'start': 98, 'end': 100, 'pos': 'ADP', 'tag': 'IN', 'dep': 'prep', 'head': 17}, {'id': 19, 'start': 101, 'end': 107, 'pos': 'NOUN', 'tag': 'NNS', 'dep': 'pobj', 'head': 18}, {'id': 20, 'start': 108, 'end': 112, 'pos': 'ADP', 'tag': 'IN', 'dep': 'prep', 'head': 17}, {'id': 21, 'start': 113, 'end': 117, 'pos': 'DET', 'tag': 'DT', 'dep': 'pobj', 'head': 20}, {'id': 22, 'start': 118, 'end': 125, 'pos': 'ADV', 'tag': 'RB', 'dep': 'advmod', 'head': 23}, {'id': 23, 'start': 126, 'end': 133, 'pos': 'VERB', 'tag': 'VBN', 'dep': 'acl', 'head': 21}, {'id': 24, 'start': 134, 'end': 137, 'pos': 'ADP', 'tag': 'IN', 'dep': 'prep', 'head': 23}, {'id': 25, 'start': 138, 'end': 139, 'pos': 'SPACE', 'tag': '_SP', 'dep': '', 'head': 24}, {'id': 26, 'start': 139, 'end': 148, 'pos': 'NOUN', 'tag': 'NN', 'dep': 'pobj', 'head': 24}, {'id': 27, 'start': 148, 'end': 149, 'pos': 'PUNCT', 'tag': '.', 'dep': 'punct', 'head': 15}, {'id': 28, 'start': 150, 'end': 155, 'pos': 'PRON', 'tag': 'EX', 'dep': 'expl', 'head': 29}, {'id': 29, 'start': 156, 'end': 159, 'pos': 'AUX', 'tag': 'VBP', 'dep': 'ROOT', 'head': 29}, {'id': 30, 'start': 160, 'end': 165, 'pos': 'NUM', 'tag': 'CD', 'dep': 'nummod', 'head': 31}, {'id': 31, 'start': 166, 'end': 174, 'pos': 'NOUN', 'tag': 'NNS', 'dep': 'attr', 'head': 29}, {'id': 32, 'start': 174, 'end': 175, 'pos': 'PUNCT', 'tag': ',', 'dep': 'punct', 'head': 31}, {'id': 33, 'start': 176, 'end': 179, 'pos': 'NUM', 'tag': 'CD', 'dep': 'appos', 'head': 31}, {'id': 34, 'start': 180, 'end': 182, 'pos': 'ADP', 'tag': 'IN', 'dep': 'prep', 'head': 33}, {'id': 35, 'start': 183, 'end': 186, 'pos': 'DET', 'tag': 'PRP$', 'dep': 'poss', 'head': 37}, {'id': 36, 'start': 187, 'end': 195, 'pos': 'ADJ', 'tag': 'JJ', 'dep': 'amod', 'head': 37}, {'id': 37, 'start': 196, 'end': 200, 'pos': 'NOUN', 'tag': 'NN', 'dep': 'pobj', 'head': 34}, {'id': 38, 'start': 200, 'end': 201, 'pos': 'PUNCT', 'tag': ',', 'dep': 'punct', 'head': 33}, {'id': 39, 'start': 202, 'end': 203, 'pos': 'SPACE', 'tag': '_SP', 'dep': '', 'head': 38}, {'id': 40, 'start': 203, 'end': 206, 'pos': 'NUM', 'tag': 'CD', 'dep': 'conj', 'head': 33}, {'id': 41, 'start': 207, 'end': 211, 'pos': 'ADP', 'tag': 'IN', 'dep': 'prep', 'head': 40}, {'id': 42, 'start': 212, 'end': 217, 'pos': 'NOUN', 'tag': 'NNS', 'dep': 'pobj', 'head': 41}, {'id': 43, 'start': 218, 'end': 225, 'pos': 'VERB', 'tag': 'VBN', 'dep': 'acl', 'head': 42}, {'id': 44, 'start': 225, 'end': 226, 'pos': 'PUNCT', 'tag': ',', 'dep': 'punct', 'head': 40}, {'id': 45, 'start': 227, 'end': 230, 'pos': 'CCONJ', 'tag': 'CC', 'dep': 'cc', 'head': 40}, {'id': 46, 'start': 231, 'end': 234, 'pos': 'NUM', 'tag': 'CD', 'dep': 'conj', 'head': 40}, {'id': 47, 'start': 235, 'end': 239, 'pos': 'ADP', 'tag': 'IN', 'dep': 'prep', 'head': 46}, {'id': 48, 'start': 240, 'end': 250, 'pos': 'NOUN', 'tag': 'NNS', 'dep': 'pobj', 'head': 47}, {'id': 49, 'start': 251, 'end': 258, 'pos': 'VERB', 'tag': 'VBN', 'dep': 'acl', 'head': 46}, {'id': 50, 'start': 258, 'end': 259, 'pos': 'PUNCT', 'tag': '.', 'dep': 'punct', 'head': 29}, {'id': 51, 'start': 260, 'end': 261, 'pos': 'PRON', 'tag': 'PRP', 'dep': 'nsubj', 'head': 52}, {'id': 52, 'start': 262, 'end': 266, 'pos': 'VERB', 'tag': 'VBP', 'dep': 'ROOT', 'head': 52}, {'id': 53, 'start': 267, 'end': 272, 'pos': 'PROPN', 'tag': 'NNP', 'dep': 'compound', 'head': 54}, {'id': 54, 'start': 273, 'end': 278, 'pos': 'PROPN', 'tag': 'NNP', 'dep': 'dobj', 'head': 52}, {'id': 55, 'start': 278, 'end': 279, 'pos': 'PUNCT', 'tag': '.', 'dep': 'punct', 'head': 52}, {'id': 56, 'start': 279, 'end': 280, 'pos': 'SPACE', 'tag': '_SP', 'dep': '', 'head': 55}, {'id': 57, 'start': 280, 'end': 282, 'pos': 'PRON', 'tag': 'PRP', 'dep': 'nsubj', 'head': 58}, {'id': 58, 'start': 282, 'end': 284, 'pos': 'VERB', 'tag': 'VBZ', 'dep': 'ROOT', 'head': 58}, {'id': 59, 'start': 285, 'end': 293, 'pos': 'ADJ', 'tag': 'JJ', 'dep': 'dobj', 'head': 58}, {'id': 60, 'start': 293, 'end': 294, 'pos': 'PUNCT', 'tag': ':', 'dep': 'punct', 'head': 62}, {'id': 61, 'start': 295, 'end': 300, 'pos': 'PROPN', 'tag': 'NNP', 'dep': 'nsubj', 'head': 62}, {'id': 62, 'start': 301, 'end': 303, 'pos': 'AUX', 'tag': 'VBZ', 'dep': 'ROOT', 'head': 62}, {'id': 63, 'start': 304, 'end': 307, 'pos': 'DET', 'tag': 'DT', 'dep': 'det', 'head': 67}, {'id': 64, 'start': 308, 'end': 313, 'pos': 'ADJ', 'tag': 'JJ', 'dep': 'amod', 'head': 67}, {'id': 65, 'start': 314, 'end': 318, 'pos': 'PROPN', 'tag': 'NNP', 'dep': 'nmod', 'head': 67}, {'id': 66, 'start': 319, 'end': 325, 'pos': 'ADJ', 'tag': 'JJ', 'dep': 'amod', 'head': 67}, {'id': 67, 'start': 326, 'end': 333, 'pos': 'NOUN', 'tag': 'NN', 'dep': 'attr', 'head': 62}, {'id': 68, 'start': 334, 'end': 336, 'pos': 'PART', 'tag': 'TO', 'dep': 'aux', 'head': 69}, {'id': 69, 'start': 337, 'end': 342, 'pos': 'VERB', 'tag': 'VB', 'dep': 'relcl', 'head': 67}, {'id': 70, 'start': 343, 'end': 344, 'pos': 'DET', 'tag': 'DT', 'dep': 'det', 'head': 75}, {'id': 71, 'start': 345, 'end': 346, 'pos': 'SYM', 'tag': '$', 'dep': 'quantmod', 'head': 73}, {'id': 72, 'start': 346, 'end': 347, 'pos': 'NUM', 'tag': 'CD', 'dep': 'compound', 'head': 73}, {'id': 73, 'start': 348, 'end': 356, 'pos': 'NUM', 'tag': 'CD', 'dep': 'nummod', 'head': 75}, {'id': 74, 'start': 357, 'end': 363, 'pos': 'NOUN', 'tag': 'NN', 'dep': 'compound', 'head': 75}, {'id': 75, 'start': 364, 'end': 369, 'pos': 'NOUN', 'tag': 'NN', 'dep': 'dobj', 'head': 69}, {'id': 76, 'start': 369, 'end': 370, 'pos': 'SPACE', 'tag': '_SP', 'dep': '', 'head': 75}]}\n",
      "Entities:    [('20', 'CARDINAL'), ('20,000', 'CARDINAL'), ('20', 'CARDINAL'), ('three', 'CARDINAL'), ('David Bowie', 'PERSON'), ('Apple', 'ORG'), ('first', 'ORDINAL'), ('U.S.', 'GPE'), ('$1 trillion', 'MONEY')]\n",
      "Countries   : [('U.S.', 'GPE')]\n",
      "PERSON   : [('David Bowie', 'PERSON')]\n"
     ]
    }
   ],
   "source": [
    "TEXT = \"\"\"\n",
    "20 Newsgroups: 20,000 documents from over 20 different newsgroups. \n",
    "The content covers a variety of topics with some closely related for \n",
    "reference. There are three versions, one in its original form, \n",
    "one with dates removed, and one with duplicates removed. I like David Bowie.\n",
    "It’s official: Apple is the first U.S. public company to reach a $1 trillion market value\n",
    "\"\"\"\n",
    "doc = nlp(TEXT)\n",
    "print(doc.to_json())\n",
    "print('Entities:   ', get_entities(doc))\n",
    "print('Countries   :',  get_countries(doc))\n",
    "print('PERSON   :',  get_persons(doc))"
   ]
  }
 ],
 "metadata": {
  "kernelspec": {
   "display_name": "Python 3",
   "language": "python",
   "name": "python3"
  },
  "language_info": {
   "codemirror_mode": {
    "name": "ipython",
    "version": 3
   },
   "file_extension": ".py",
   "mimetype": "text/x-python",
   "name": "python",
   "nbconvert_exporter": "python",
   "pygments_lexer": "ipython3",
   "version": "3.7.4"
  }
 },
 "nbformat": 4,
 "nbformat_minor": 2
}
